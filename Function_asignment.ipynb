{
  "nbformat": 4,
  "nbformat_minor": 0,
  "metadata": {
    "colab": {
      "provenance": []
    },
    "kernelspec": {
      "name": "python3",
      "display_name": "Python 3"
    },
    "language_info": {
      "name": "python"
    }
  },
  "cells": [
    {
      "cell_type": "code",
      "execution_count": null,
      "metadata": {
        "id": "08BCu2ubE2O4"
      },
      "outputs": [],
      "source": []
    },
    {
      "cell_type": "markdown",
      "source": [],
      "metadata": {
        "id": "w5uJAIAFnsOm"
      }
    },
    {
      "cell_type": "markdown",
      "source": [
        "**Q.1- What is the difference between a function and a method in python ?**\n",
        "\n",
        "**Ans.-**  Functions are nothing but a block of code which performs a specific task and can be called again and again as per requirement in the code.\n",
        "ex.-"
      ],
      "metadata": {
        "id": "mWKEBeuyE-XJ"
      }
    },
    {
      "cell_type": "code",
      "source": [
        "# example of function\n",
        "def sum_(a,b) :\n",
        "  return(a+b)\n",
        "sum_(3,4)"
      ],
      "metadata": {
        "colab": {
          "base_uri": "https://localhost:8080/"
        },
        "id": "WZH1KOfYHqEh",
        "outputId": "b379888e-16ad-4363-bedd-aa9ad0d49821"
      },
      "execution_count": null,
      "outputs": [
        {
          "output_type": "execute_result",
          "data": {
            "text/plain": [
              "7"
            ]
          },
          "metadata": {},
          "execution_count": 2
        }
      ]
    },
    {
      "cell_type": "code",
      "source": [],
      "metadata": {
        "id": "IkyD0uYyIRvq"
      },
      "execution_count": null,
      "outputs": []
    },
    {
      "cell_type": "markdown",
      "source": [
        "A Method is a function that is associated with an object. It is defined inside a class and is used to define the behaviour of the object created from yhe class."
      ],
      "metadata": {
        "id": "UzOHH3J1ISIJ"
      }
    },
    {
      "cell_type": "code",
      "source": [
        "# example of method\n",
        "class sum_numbers:\n",
        "  def sum_(self,a,b):\n",
        "    return(a+b)\n",
        "add=sum_numbers()\n",
        "add.sum_(5,8)\n"
      ],
      "metadata": {
        "colab": {
          "base_uri": "https://localhost:8080/"
        },
        "id": "JbRilrp3JI8F",
        "outputId": "1443e290-f662-41ef-b448-d64c440e8ca4"
      },
      "execution_count": null,
      "outputs": [
        {
          "output_type": "execute_result",
          "data": {
            "text/plain": [
              "13"
            ]
          },
          "metadata": {},
          "execution_count": 5
        }
      ]
    },
    {
      "cell_type": "markdown",
      "source": [
        "**Q.2.- Explain the concept of function arguments and parameters in Python.**\n",
        "\n",
        "**Ans.-**Function arguments are values that you provide to a function when you call it. These argumensts can be used by the function to perform specific task.\n",
        "\n",
        "Parameters are the names listed in a function's definition.\n"
      ],
      "metadata": {
        "id": "fbwHKZzxKFTE"
      }
    },
    {
      "cell_type": "code",
      "source": [
        "def greet(name):# name is a parameter\n",
        "  print(\"Hello\", name)\n",
        "greet(\"Ankul\")# Ankul is an arguments"
      ],
      "metadata": {
        "colab": {
          "base_uri": "https://localhost:8080/"
        },
        "id": "mGTcrYlwMO5O",
        "outputId": "55daf323-0267-455f-8955-38b5d5be9e3a"
      },
      "execution_count": null,
      "outputs": [
        {
          "output_type": "stream",
          "name": "stdout",
          "text": [
            "Hello Ankul\n"
          ]
        }
      ]
    },
    {
      "cell_type": "markdown",
      "source": [
        "**Q.3-  What are the different ways to define and call a function in Python ?**\n",
        "\n",
        "**Ans.-**1. Standard Function Definition\n"
      ],
      "metadata": {
        "id": "LY9rUCPsOD-V"
      }
    },
    {
      "cell_type": "code",
      "source": [
        "def  greet(name):\n",
        "  return f\"Hello, {name}!\"\n",
        "  #calling the function\n",
        "mesage = greet(\"world\")\n",
        "print(mesage)"
      ],
      "metadata": {
        "colab": {
          "base_uri": "https://localhost:8080/"
        },
        "id": "f_hCCJa3qtUa",
        "outputId": "026236a9-6ec7-4a69-8f17-3b695d2de56d"
      },
      "execution_count": null,
      "outputs": [
        {
          "output_type": "stream",
          "name": "stdout",
          "text": [
            "Hello, world!\n"
          ]
        }
      ]
    },
    {
      "cell_type": "markdown",
      "source": [
        "2. Lamda Function (Anonymous Function)\n"
      ],
      "metadata": {
        "id": "w27d1NoErrEB"
      }
    },
    {
      "cell_type": "code",
      "source": [
        "add= lambda x,y: x+y\n",
        "result=add(5,9)\n",
        "print(result)"
      ],
      "metadata": {
        "colab": {
          "base_uri": "https://localhost:8080/"
        },
        "id": "1zV1EyE4r3Np",
        "outputId": "18f7d712-3885-41db-a085-c7471c3ffd38"
      },
      "execution_count": null,
      "outputs": [
        {
          "output_type": "stream",
          "name": "stdout",
          "text": [
            "14\n"
          ]
        }
      ]
    },
    {
      "cell_type": "markdown",
      "source": [
        "3. Nested Functions\n"
      ],
      "metadata": {
        "id": "dta92RuasPVo"
      }
    },
    {
      "cell_type": "markdown",
      "source": [],
      "metadata": {
        "id": "V1tz7cGWsVPg"
      }
    },
    {
      "cell_type": "code",
      "source": [
        "def outer_function(x):\n",
        "  def inner_function(y):\n",
        "    return(x+y)\n",
        "  return inner_function\n",
        "closure=outer_function(16)\n",
        "result=closure(12)\n",
        "print(result)"
      ],
      "metadata": {
        "colab": {
          "base_uri": "https://localhost:8080/"
        },
        "id": "PCrntt4psYKX",
        "outputId": "d6d0a02c-d250-46af-ba1a-21e32588cb94"
      },
      "execution_count": null,
      "outputs": [
        {
          "output_type": "stream",
          "name": "stdout",
          "text": [
            "28\n"
          ]
        }
      ]
    },
    {
      "cell_type": "markdown",
      "source": [
        "4.Recursive Functions\n"
      ],
      "metadata": {
        "id": "uQhaVBTFtGfh"
      }
    },
    {
      "cell_type": "code",
      "source": [
        "def factorial(n):\n",
        "  if n==0:\n",
        "    return 1\n",
        "  else:\n",
        "    return n*factorial(n-1)\n",
        "result=factorial(12)\n",
        "print(result)\n",
        "\n"
      ],
      "metadata": {
        "colab": {
          "base_uri": "https://localhost:8080/"
        },
        "id": "SF5m8DCatNUI",
        "outputId": "a11990e3-bddb-4886-822a-44b7be8b54fe"
      },
      "execution_count": null,
      "outputs": [
        {
          "output_type": "stream",
          "name": "stdout",
          "text": [
            "479001600\n"
          ]
        }
      ]
    },
    {
      "cell_type": "markdown",
      "source": [
        "5. Function With Variable Arguments\n"
      ],
      "metadata": {
        "id": "G8qrBQTcunHh"
      }
    },
    {
      "cell_type": "code",
      "source": [
        "def print_arguments(*args,**kwargs):\n",
        "  print(\"Positional Arguments:\",args)\n",
        "  print(\"Keyword Arguments:\",kwargs)\n",
        "print_arguments(1,2,3,name=\"Ankul\",age=20)"
      ],
      "metadata": {
        "colab": {
          "base_uri": "https://localhost:8080/"
        },
        "id": "OXtwsXT_uxDy",
        "outputId": "ffe9a01b-8c41-4dad-f390-b7288dff891f"
      },
      "execution_count": null,
      "outputs": [
        {
          "output_type": "stream",
          "name": "stdout",
          "text": [
            "Positional Arguments: (1, 2, 3)\n",
            "Keyword Arguments: {'name': 'Ankul', 'age': 20}\n"
          ]
        }
      ]
    },
    {
      "cell_type": "markdown",
      "source": [
        "6.Calling Functions\n"
      ],
      "metadata": {
        "id": "1C3yZSH1v2ex"
      }
    },
    {
      "cell_type": "code",
      "source": [
        "def my_function():\n",
        "  print(\"Function called\")\n",
        "my_function()"
      ],
      "metadata": {
        "colab": {
          "base_uri": "https://localhost:8080/"
        },
        "id": "j1KnjKAPv8yO",
        "outputId": "2bfed9e2-2733-4113-ec88-bcf50947d276"
      },
      "execution_count": null,
      "outputs": [
        {
          "output_type": "stream",
          "name": "stdout",
          "text": [
            "Function called\n"
          ]
        }
      ]
    },
    {
      "cell_type": "markdown",
      "source": [
        "**Q.4-  What is the purpose of the `return` statement in a Python function?**\n",
        "\n",
        "**Ans.-**  The return statement in python function is used to -\n",
        "1. Send a result back to the caller of the function.\n",
        "2. End the function's execution immediately when it is reached.\n"
      ],
      "metadata": {
        "id": "BpZhzKaVyXP9"
      }
    },
    {
      "cell_type": "code",
      "source": [
        "def add(a,b):\n",
        "  return a+b\n",
        "#result=add(9,8)\n",
        "#print(result)\n",
        "add(9,8)"
      ],
      "metadata": {
        "colab": {
          "base_uri": "https://localhost:8080/"
        },
        "id": "-a98xaIsz6CI",
        "outputId": "b9d00063-82fe-4a16-f73c-60577b2137ba"
      },
      "execution_count": null,
      "outputs": [
        {
          "output_type": "execute_result",
          "data": {
            "text/plain": [
              "17"
            ]
          },
          "metadata": {},
          "execution_count": 12
        }
      ]
    },
    {
      "cell_type": "markdown",
      "source": [
        "**Q.5- . What are iterators in Python and how do they differ from iterables ?**\n",
        "\n",
        "**Ans.-** Iterator is an object that implements the iterator protocol,allowing you to access elements sequentially.\n",
        "Iterable is any object that can be looped over.\n",
        "(e.g., lists, tuples, strings,)\n"
      ],
      "metadata": {
        "id": "Ze6-O0N10VSg"
      }
    },
    {
      "cell_type": "code",
      "source": [
        "my_list=[1,2,3]\n",
        "my_iterator=iter(my_list) #createw an iterator from the list\n",
        "# iterate using the iterator\n",
        "try:\n",
        "  while True:\n",
        "    item=next(my_iterator)\n",
        "    print(item)\n",
        "except StopIteration:\n",
        "  pass"
      ],
      "metadata": {
        "colab": {
          "base_uri": "https://localhost:8080/"
        },
        "id": "2sg5dUDV2fuK",
        "outputId": "b32c2532-65b6-4ed8-ffcb-2d3fcf04b48f"
      },
      "execution_count": null,
      "outputs": [
        {
          "output_type": "stream",
          "name": "stdout",
          "text": [
            "1\n",
            "2\n",
            "3\n"
          ]
        }
      ]
    },
    {
      "cell_type": "markdown",
      "source": [
        "**Q.6-  Explain the concept of generators in Python and how they are defined.**\n",
        "\n",
        "**Ans.-** Generator functions in python are a way to create iterators in a more concise and memory-efficient manner.\n",
        "These functions allow you to iterate over a potentially large sequence of data without loading the entire sequence into memory.\n"
      ],
      "metadata": {
        "id": "hH7jp-TY3aui"
      }
    },
    {
      "cell_type": "code",
      "source": [
        "def pw_generator():\n",
        "  yield 1\n",
        "  yield 2\n",
        "  yield 3\n",
        "# using the generator\n",
        "generator = pw_generator()\n",
        "\n",
        "print(next(generator))\n",
        "print(next(generator))\n",
        "print(next(generator))"
      ],
      "metadata": {
        "colab": {
          "base_uri": "https://localhost:8080/"
        },
        "id": "XDhF4BmH5KgJ",
        "outputId": "e311a7ff-0f3d-43ef-cc2a-60edc8cdc02f"
      },
      "execution_count": null,
      "outputs": [
        {
          "output_type": "stream",
          "name": "stdout",
          "text": [
            "1\n",
            "2\n",
            "3\n"
          ]
        }
      ]
    },
    {
      "cell_type": "markdown",
      "source": [
        "**Q.7- What are the advantages of using generators over regular functions ?**\n",
        "\n",
        "**Ans.-** Generator are memory efficient because they don't store all values in memory at once.\n",
        "Each value is generated and consumed one at a time, making them suitable for working with large dataseta or when memory inaconcern.\n"
      ],
      "metadata": {
        "id": "LM26ju_Y54sv"
      }
    },
    {
      "cell_type": "code",
      "source": [
        "from re import A\n",
        "def fibonacci_generator():\n",
        "  a,b=0,1\n",
        "  while True:\n",
        "    yield a\n",
        "    a,b=b,a+b\n",
        "from re import A\n",
        "def fibonacci_generator():\n",
        "  a,b=0,1\n",
        "  while True:\n",
        "    yield a\n",
        "    a,b=b,a+b\n",
        "\n",
        "fib_gen=fibonacci_generator()\n",
        "for _ in range(10):\n",
        "  print(next(fib_gen))"
      ],
      "metadata": {
        "colab": {
          "base_uri": "https://localhost:8080/"
        },
        "id": "L33ojgo-65v1",
        "outputId": "a0ad38aa-d6f7-4433-8bca-6e547f36115f"
      },
      "execution_count": null,
      "outputs": [
        {
          "output_type": "stream",
          "name": "stdout",
          "text": [
            "0\n",
            "1\n",
            "1\n",
            "2\n",
            "3\n",
            "5\n",
            "8\n",
            "13\n",
            "21\n",
            "34\n"
          ]
        }
      ]
    },
    {
      "cell_type": "markdown",
      "source": [
        "**Q.8- . What is a lambda function in Python and when is it typically used ?**\n",
        "\n",
        "**Ans.-**. A lambda function in python is a concise way to create anonymous functions,also known as lambda expressions.\n",
        ". Unlike regular functions definedusing thew def keyword, lambda functions are often used for short - term oeration and are defined in a single line"
      ],
      "metadata": {
        "id": "awdNA8VH8FZb"
      }
    },
    {
      "cell_type": "code",
      "source": [
        "add=lambda x,y: x+y\n",
        "result=add(98,89)\n",
        "print(result)"
      ],
      "metadata": {
        "colab": {
          "base_uri": "https://localhost:8080/"
        },
        "id": "0Xmj_xmB9RBF",
        "outputId": "993b078c-b978-49d6-c433-3c88859f8c66"
      },
      "execution_count": null,
      "outputs": [
        {
          "output_type": "stream",
          "name": "stdout",
          "text": [
            "187\n"
          ]
        }
      ]
    },
    {
      "cell_type": "markdown",
      "source": [
        "**Q.9-  Explain the purpose and usage of the `map()` function in Python.**\n",
        "\n",
        "**Ans.-. The map() function executes a specified function for each item in an 'iterable'. The item is sent to the function as a parametert.\n",
        ".The map() function in python is a buit-in function that applies a given function to all the items in an iterable and return an iterable map object of the result."
      ],
      "metadata": {
        "id": "jd-TQsXi9uWn"
      }
    },
    {
      "cell_type": "code",
      "source": [],
      "metadata": {
        "id": "Pbfw5hv2_Fy4"
      },
      "execution_count": null,
      "outputs": []
    },
    {
      "cell_type": "markdown",
      "source": [
        "**Q.10- What is the difference between `map()`, `reduce()`, and `filter()` function in python?**\n",
        "\n",
        "**Ans.-**1. map() function- Transform each item in the iterable using the given function and return a new iterable (map object) with the results.\n"
      ],
      "metadata": {
        "id": "uFM2IP8V_OZZ"
      }
    },
    {
      "cell_type": "code",
      "source": [
        "num=[1,2,3]\n",
        "result=map(lambda x: x*2, num)\n",
        "print(list(result))"
      ],
      "metadata": {
        "colab": {
          "base_uri": "https://localhost:8080/"
        },
        "id": "S1hAVa59AQap",
        "outputId": "dee894bf-1f05-4587-d01c-37f83a9db3d0"
      },
      "execution_count": null,
      "outputs": [
        {
          "output_type": "stream",
          "name": "stdout",
          "text": [
            "[2, 4, 6]\n"
          ]
        }
      ]
    },
    {
      "cell_type": "markdown",
      "source": [
        "2. filter()- Filters items in the iterable based on the function returning True and returns a new iterable with only the items that pass the filter.\n"
      ],
      "metadata": {
        "id": "SuL2xyoPArEM"
      }
    },
    {
      "cell_type": "code",
      "source": [
        "nums=[1,2,3,4]\n",
        "result=filter(lambda x:x%2==0, nums)\n",
        "print(list(result))"
      ],
      "metadata": {
        "colab": {
          "base_uri": "https://localhost:8080/"
        },
        "id": "W1ZsUmtVBIIL",
        "outputId": "8d0a77dd-ef43-4f25-cf29-b1dc7a2b8c6f"
      },
      "execution_count": null,
      "outputs": [
        {
          "output_type": "stream",
          "name": "stdout",
          "text": [
            "[2, 4]\n"
          ]
        }
      ]
    },
    {
      "cell_type": "markdown",
      "source": [
        "3.reduce()- Applies a rolling computation to sequential pairs of elements to reduce the iterable to a single value. and return a single value."
      ],
      "metadata": {
        "id": "NtC8fvYWBkNl"
      }
    },
    {
      "cell_type": "code",
      "source": [
        "from functools import reduce\n",
        "nums=[1,2,3,4]\n",
        "result=reduce(lambda x,y: x+y, nums)\n",
        "print(result)"
      ],
      "metadata": {
        "colab": {
          "base_uri": "https://localhost:8080/"
        },
        "id": "rK7ZxjHkB6pe",
        "outputId": "8cea4a65-68bc-4df9-c9d5-7b87faa462bd"
      },
      "execution_count": null,
      "outputs": [
        {
          "output_type": "stream",
          "name": "stdout",
          "text": [
            "10\n"
          ]
        }
      ]
    },
    {
      "cell_type": "markdown",
      "source": [
        "**Q.11-. Using pen & Paper write the internal mechanism for sum operation using  reduce function on this given list:[47,11,42,13];**\n",
        "\n",
        "**Ans.-**![solu.jpg](data:image/jpeg;base64,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)"
      ],
      "metadata": {
        "id": "l4dGedkFCaa8"
      }
    },
    {
      "cell_type": "markdown",
      "source": [
        "Practical Questions"
      ],
      "metadata": {
        "id": "-d99PG8UnvfM"
      }
    },
    {
      "cell_type": "code",
      "source": [
        "#1.  Write a Python function that takes a list of numbers as input and returns the sum of all even numbers in the list.\n",
        "def sum_even_numbers(numbers):\n",
        "  sum_even_numbers = 0\n",
        "  for num in numbers:\n",
        "    if num%2 ==0:\n",
        "      sum_even_numbers +=num\n",
        "  return sum_even_numbers\n",
        "\n",
        "numbers = [1,2,3,4,5,6,7,8,9,10]\n",
        "result = sum_even_numbers(numbers)\n",
        "print(result)"
      ],
      "metadata": {
        "colab": {
          "base_uri": "https://localhost:8080/"
        },
        "id": "6G5k-7YHnufS",
        "outputId": "884a2a5e-31aa-44fa-c1d7-7b1a25f07caa"
      },
      "execution_count": null,
      "outputs": [
        {
          "output_type": "stream",
          "name": "stdout",
          "text": [
            "30\n"
          ]
        }
      ]
    },
    {
      "cell_type": "code",
      "source": [
        "#2. Create a Python function that accepts a string and returns the reverse of that string\n",
        "def reverse_string(input_string):\n",
        "  reversed_string = input_string[::-1]\n",
        "  return reversed_string\n",
        "input_string = \"Abhishek Yadav\"\n",
        "result = reverse_string(input_string)\n",
        "print(result)\n"
      ],
      "metadata": {
        "colab": {
          "base_uri": "https://localhost:8080/"
        },
        "id": "ExVBRQ5msXUg",
        "outputId": "1068a806-465e-45a4-ad86-7ce17ea02bac"
      },
      "execution_count": null,
      "outputs": [
        {
          "output_type": "stream",
          "name": "stdout",
          "text": [
            "vadaY kehsihbA\n"
          ]
        }
      ]
    },
    {
      "cell_type": "code",
      "source": [
        "#3. . Implement a Python function that takes a list of integers and returns a  new list containing the squares of each number.\n",
        "def square_numbers(numbers):\n",
        "  squared_numbers = [num**2 for num in numbers]\n",
        "  return squared_numbers\n",
        "numbers = [1,2,3,4,5,6,7,8,9,10]\n",
        "result = square_numbers(numbers)\n",
        "print(result)"
      ],
      "metadata": {
        "colab": {
          "base_uri": "https://localhost:8080/"
        },
        "id": "CfXUgdONthOG",
        "outputId": "db141c16-dabc-4b81-ef82-a5b27d9e3f35"
      },
      "execution_count": null,
      "outputs": [
        {
          "output_type": "stream",
          "name": "stdout",
          "text": [
            "[1, 4, 9, 16, 25, 36, 49, 64, 81, 100]\n"
          ]
        }
      ]
    },
    {
      "cell_type": "code",
      "source": [
        "# 4. Write a Python function that checks if a given number is prime or not from 1 to 200.\n",
        "def is_prime(num):\n",
        "  if num < 1:\n",
        "    return False\n",
        "  for i in range(2, int(num**0.5)+1):\n",
        "    if num% i == 0:\n",
        "      return False\n",
        "  return True\n",
        "for num in range(1,201):\n",
        "  if is_prime(num):\n",
        "    print(f\"{num} is a prime number\")\n",
        "  else:\n",
        "    print(f\"{num} is not a prime number\")\n",
        "\n",
        "\n",
        "\n"
      ],
      "metadata": {
        "colab": {
          "base_uri": "https://localhost:8080/"
        },
        "id": "J-jAWNNzuU9V",
        "outputId": "9475dc68-5aee-469e-d772-9da4358f5d96"
      },
      "execution_count": null,
      "outputs": [
        {
          "output_type": "stream",
          "name": "stdout",
          "text": [
            "1 is a prime number\n",
            "2 is a prime number\n",
            "3 is a prime number\n",
            "4 is not a prime number\n",
            "5 is a prime number\n",
            "6 is not a prime number\n",
            "7 is a prime number\n",
            "8 is not a prime number\n",
            "9 is not a prime number\n",
            "10 is not a prime number\n",
            "11 is a prime number\n",
            "12 is not a prime number\n",
            "13 is a prime number\n",
            "14 is not a prime number\n",
            "15 is not a prime number\n",
            "16 is not a prime number\n",
            "17 is a prime number\n",
            "18 is not a prime number\n",
            "19 is a prime number\n",
            "20 is not a prime number\n",
            "21 is not a prime number\n",
            "22 is not a prime number\n",
            "23 is a prime number\n",
            "24 is not a prime number\n",
            "25 is not a prime number\n",
            "26 is not a prime number\n",
            "27 is not a prime number\n",
            "28 is not a prime number\n",
            "29 is a prime number\n",
            "30 is not a prime number\n",
            "31 is a prime number\n",
            "32 is not a prime number\n",
            "33 is not a prime number\n",
            "34 is not a prime number\n",
            "35 is not a prime number\n",
            "36 is not a prime number\n",
            "37 is a prime number\n",
            "38 is not a prime number\n",
            "39 is not a prime number\n",
            "40 is not a prime number\n",
            "41 is a prime number\n",
            "42 is not a prime number\n",
            "43 is a prime number\n",
            "44 is not a prime number\n",
            "45 is not a prime number\n",
            "46 is not a prime number\n",
            "47 is a prime number\n",
            "48 is not a prime number\n",
            "49 is not a prime number\n",
            "50 is not a prime number\n",
            "51 is not a prime number\n",
            "52 is not a prime number\n",
            "53 is a prime number\n",
            "54 is not a prime number\n",
            "55 is not a prime number\n",
            "56 is not a prime number\n",
            "57 is not a prime number\n",
            "58 is not a prime number\n",
            "59 is a prime number\n",
            "60 is not a prime number\n",
            "61 is a prime number\n",
            "62 is not a prime number\n",
            "63 is not a prime number\n",
            "64 is not a prime number\n",
            "65 is not a prime number\n",
            "66 is not a prime number\n",
            "67 is a prime number\n",
            "68 is not a prime number\n",
            "69 is not a prime number\n",
            "70 is not a prime number\n",
            "71 is a prime number\n",
            "72 is not a prime number\n",
            "73 is a prime number\n",
            "74 is not a prime number\n",
            "75 is not a prime number\n",
            "76 is not a prime number\n",
            "77 is not a prime number\n",
            "78 is not a prime number\n",
            "79 is a prime number\n",
            "80 is not a prime number\n",
            "81 is not a prime number\n",
            "82 is not a prime number\n",
            "83 is a prime number\n",
            "84 is not a prime number\n",
            "85 is not a prime number\n",
            "86 is not a prime number\n",
            "87 is not a prime number\n",
            "88 is not a prime number\n",
            "89 is a prime number\n",
            "90 is not a prime number\n",
            "91 is not a prime number\n",
            "92 is not a prime number\n",
            "93 is not a prime number\n",
            "94 is not a prime number\n",
            "95 is not a prime number\n",
            "96 is not a prime number\n",
            "97 is a prime number\n",
            "98 is not a prime number\n",
            "99 is not a prime number\n",
            "100 is not a prime number\n",
            "101 is a prime number\n",
            "102 is not a prime number\n",
            "103 is a prime number\n",
            "104 is not a prime number\n",
            "105 is not a prime number\n",
            "106 is not a prime number\n",
            "107 is a prime number\n",
            "108 is not a prime number\n",
            "109 is a prime number\n",
            "110 is not a prime number\n",
            "111 is not a prime number\n",
            "112 is not a prime number\n",
            "113 is a prime number\n",
            "114 is not a prime number\n",
            "115 is not a prime number\n",
            "116 is not a prime number\n",
            "117 is not a prime number\n",
            "118 is not a prime number\n",
            "119 is not a prime number\n",
            "120 is not a prime number\n",
            "121 is not a prime number\n",
            "122 is not a prime number\n",
            "123 is not a prime number\n",
            "124 is not a prime number\n",
            "125 is not a prime number\n",
            "126 is not a prime number\n",
            "127 is a prime number\n",
            "128 is not a prime number\n",
            "129 is not a prime number\n",
            "130 is not a prime number\n",
            "131 is a prime number\n",
            "132 is not a prime number\n",
            "133 is not a prime number\n",
            "134 is not a prime number\n",
            "135 is not a prime number\n",
            "136 is not a prime number\n",
            "137 is a prime number\n",
            "138 is not a prime number\n",
            "139 is a prime number\n",
            "140 is not a prime number\n",
            "141 is not a prime number\n",
            "142 is not a prime number\n",
            "143 is not a prime number\n",
            "144 is not a prime number\n",
            "145 is not a prime number\n",
            "146 is not a prime number\n",
            "147 is not a prime number\n",
            "148 is not a prime number\n",
            "149 is a prime number\n",
            "150 is not a prime number\n",
            "151 is a prime number\n",
            "152 is not a prime number\n",
            "153 is not a prime number\n",
            "154 is not a prime number\n",
            "155 is not a prime number\n",
            "156 is not a prime number\n",
            "157 is a prime number\n",
            "158 is not a prime number\n",
            "159 is not a prime number\n",
            "160 is not a prime number\n",
            "161 is not a prime number\n",
            "162 is not a prime number\n",
            "163 is a prime number\n",
            "164 is not a prime number\n",
            "165 is not a prime number\n",
            "166 is not a prime number\n",
            "167 is a prime number\n",
            "168 is not a prime number\n",
            "169 is not a prime number\n",
            "170 is not a prime number\n",
            "171 is not a prime number\n",
            "172 is not a prime number\n",
            "173 is a prime number\n",
            "174 is not a prime number\n",
            "175 is not a prime number\n",
            "176 is not a prime number\n",
            "177 is not a prime number\n",
            "178 is not a prime number\n",
            "179 is a prime number\n",
            "180 is not a prime number\n",
            "181 is a prime number\n",
            "182 is not a prime number\n",
            "183 is not a prime number\n",
            "184 is not a prime number\n",
            "185 is not a prime number\n",
            "186 is not a prime number\n",
            "187 is not a prime number\n",
            "188 is not a prime number\n",
            "189 is not a prime number\n",
            "190 is not a prime number\n",
            "191 is a prime number\n",
            "192 is not a prime number\n",
            "193 is a prime number\n",
            "194 is not a prime number\n",
            "195 is not a prime number\n",
            "196 is not a prime number\n",
            "197 is a prime number\n",
            "198 is not a prime number\n",
            "199 is a prime number\n",
            "200 is not a prime number\n"
          ]
        }
      ]
    },
    {
      "cell_type": "code",
      "source": [
        "#5.  Create an iterator class in Python that generates the Fibonacci sequence  up to a specified number of terms\n",
        "class FibonacciIterator:\n",
        "  def __init__(self, max_terms):\n",
        "    self.max_terms = max_terms\n",
        "    self.count = 0\n",
        "    self.a = 0\n",
        "    self.b = 1\n",
        "  def __iter__(self):\n",
        "    return self\n",
        "  def __next__(self):\n",
        "    if self.count >= self.max_terms:\n",
        "      raise StopIteration\n",
        "    if self.count ==0:\n",
        "      self.count +=1\n",
        "      return self.a\n",
        "    elif self.count == 1:\n",
        "      self.count +=1\n",
        "      return self.b\n",
        "    else:\n",
        "      self.a, self.b = self.b, self.a + self.b\n",
        "      self.count +=1\n",
        "      return self.b\n",
        "fibonacci_iterator = FibonacciIterator(12)\n",
        "for term in fibonacci_iterator:\n",
        "  print(term)\n",
        "\n",
        "\n"
      ],
      "metadata": {
        "colab": {
          "base_uri": "https://localhost:8080/"
        },
        "id": "F1l4frMCxh_8",
        "outputId": "658fb963-2f0d-4ccc-a3d3-0f076b0086a6"
      },
      "execution_count": null,
      "outputs": [
        {
          "output_type": "stream",
          "name": "stdout",
          "text": [
            "0\n",
            "1\n",
            "1\n",
            "2\n",
            "3\n",
            "5\n",
            "8\n",
            "13\n",
            "21\n",
            "34\n",
            "55\n",
            "89\n"
          ]
        }
      ]
    },
    {
      "cell_type": "code",
      "source": [
        "# 6   Write a generator function in Python that yields the powers of 2 up to a  given exponent.\n",
        "def powers_of_two(max_exponent):\n",
        "  for exp in range(max_exponent + 1):\n",
        "    yield 2**exp\n",
        "for power in powers_of_two(5):\n",
        "  print(power)"
      ],
      "metadata": {
        "colab": {
          "base_uri": "https://localhost:8080/"
        },
        "id": "Ua5sDwET1tWV",
        "outputId": "1de4f00c-d035-4343-f088-6b48c05f63bc"
      },
      "execution_count": null,
      "outputs": [
        {
          "output_type": "stream",
          "name": "stdout",
          "text": [
            "1\n",
            "2\n",
            "4\n",
            "8\n",
            "16\n",
            "32\n"
          ]
        }
      ]
    },
    {
      "cell_type": "code",
      "source": [
        "#7. . Implement a generator function that reads a file line by line and yields each line as a string.\n",
        "def read_file_lines(filepath):\n",
        "  with open(filepath, 'r') as file:\n",
        "    for line in file:\n",
        "      yield line.rstrip('\\n')\n",
        "!echo \"This is first line.\" >example.txt\n",
        "!echo \"This is second line.\">>example.txt\n",
        "\n",
        "for line in read_file_lines('example.txt'):\n",
        "  print(line)\n",
        "for line in read_file_lines('example.txt'):\n",
        "  print(line)"
      ],
      "metadata": {
        "colab": {
          "base_uri": "https://localhost:8080/"
        },
        "id": "7nh1qw1e2vVt",
        "outputId": "b967136c-7908-46ad-94d6-72cb96ed0a8e"
      },
      "execution_count": null,
      "outputs": [
        {
          "output_type": "stream",
          "name": "stdout",
          "text": [
            "This is first line.\n",
            "This is second line.\n",
            "This is first line.\n",
            "This is second line.\n"
          ]
        }
      ]
    },
    {
      "cell_type": "code",
      "source": [
        "#8.  Use a lambda function in Python to sort a list of tuples based on the second element of each tuple.\n",
        "tuples_list =[(1,5),(3,2),(2,8),(4,6)]\n",
        "sorted_list = sorted(tuples_list,key = lambda x: x[1])\n",
        "print(sorted_list)"
      ],
      "metadata": {
        "colab": {
          "base_uri": "https://localhost:8080/"
        },
        "id": "kxbueXyE6KPC",
        "outputId": "c5018881-fb95-467a-e3ef-675ba61a743e"
      },
      "execution_count": null,
      "outputs": [
        {
          "output_type": "stream",
          "name": "stdout",
          "text": [
            "[(3, 2), (1, 5), (4, 6), (2, 8)]\n"
          ]
        }
      ]
    },
    {
      "cell_type": "code",
      "source": [
        "# 9. Write a Python program that uses `map()` to convert a list of temperatures\n",
        "# from Celsius to Fahrenheit.\n",
        "def celcius_to_fahrenheit(c):\n",
        "  return(c*9/5+32)\n",
        "celcius_temps = [0,10,55,30,37,100]\n",
        "fahrenheit_temps = list(map(celcius_to_fahrenheit, celcius_temps))\n",
        "print(\"Celcius:\", celcius_temps)\n",
        "print(\"Fahrenheit:\", fahrenheit_temps)"
      ],
      "metadata": {
        "colab": {
          "base_uri": "https://localhost:8080/"
        },
        "id": "IDL7J1937Ry0",
        "outputId": "b3f9f130-e632-475c-938a-4e0f5e1e2a79"
      },
      "execution_count": null,
      "outputs": [
        {
          "output_type": "stream",
          "name": "stdout",
          "text": [
            "Celcius: [0, 10, 55, 30, 37, 100]\n",
            "Fahrenheit: [32.0, 50.0, 131.0, 86.0, 98.6, 212.0]\n"
          ]
        }
      ]
    },
    {
      "cell_type": "code",
      "source": [
        "#10. Create a Python program that uses `filter()` to remove all the vowels from a given string.\n",
        "def remove_vowels(input_str):\n",
        "  vowels = 'aeiouAEIOU'\n",
        "  return ''.join(filter(lambda ch: ch not in vowels, input_str))\n",
        "text = \"Hello, this is a filtered string!\"\n",
        "filtered_text = remove_vowels(text)\n",
        "print(\"Original:\",text)\n",
        "print(\"Without vowels:\",filtered_text)"
      ],
      "metadata": {
        "colab": {
          "base_uri": "https://localhost:8080/"
        },
        "id": "z7ME0O_9-Kn2",
        "outputId": "74707199-b8fe-442e-ab62-3d6fe034e81e"
      },
      "execution_count": null,
      "outputs": [
        {
          "output_type": "stream",
          "name": "stdout",
          "text": [
            "Original: Hello, this is a filtered string!\n",
            "Without vowels: Hll, ths s  fltrd strng!\n"
          ]
        }
      ]
    },
    {
      "cell_type": "code",
      "source": [
        "# 11.\n",
        "order = [\n",
        "    [34587, \"Learning Python, Mark Lutz\", 4, 40.95,],\n",
        "    [98762, \"Programming Python, Mark Lutz\", 5, 56.80],\n",
        "    [77226, \"Head First Python, Paul Barry\", 3, 32.95],\n",
        "    [88112, \"Einfuhrung in Python3, Bernd klein\", 3, 24.99]\n",
        "]\n",
        "processed_orders = list(map(\n",
        "    lambda order: (\n",
        "        order[0],\n",
        "        order[2] * order[3] +10 if\n",
        "        order[2]*order[3] < 100 else\n",
        "        order[2]*order[3]\n",
        "    ),\n",
        "    order\n",
        "    ))\n",
        "print(processed_orders)\n",
        "\n"
      ],
      "metadata": {
        "colab": {
          "base_uri": "https://localhost:8080/"
        },
        "id": "wXCQPbc5CIVr",
        "outputId": "7e963293-c7f9-4cea-99ad-9b440faed7e7"
      },
      "execution_count": null,
      "outputs": [
        {
          "output_type": "stream",
          "name": "stdout",
          "text": [
            "[(34587, 163.8), (98762, 284.0), (77226, 108.85000000000001), (88112, 84.97)]\n"
          ]
        }
      ]
    }
  ]
}